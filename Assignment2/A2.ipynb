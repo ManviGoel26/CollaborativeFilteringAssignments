{
  "cells": [
    {
      "cell_type": "code",
      "execution_count": 34,
      "metadata": {
        "id": "9kkZYC500Uct"
      },
      "outputs": [],
      "source": [
        "import pandas as pd\n",
        "import numpy as np\n",
        "from sklearn.metrics import mean_absolute_error as mae\n",
        "import copy\n",
        "from scipy.sparse.linalg.dsolve import linsolve\n",
        "from scipy.sparse.linalg import cg\n",
        "import matplotlib.pyplot as plt\n",
        "import random\n",
        "random.seed(42)\n",
        "np.random.seed(42)\n",
        "import warnings\n",
        "warnings.filterwarnings(\"ignore\")"
      ]
    },
    {
      "cell_type": "code",
      "source": [
        "columns = ['user_id', 'movie_id', 'rating', 'timestamp']\n",
        "def makeDataset(fold):\n",
        "    base = pd.read_csv(\"/content/drive/MyDrive/CFAssignmentsDataset/u\" + str(fold) + \".base\", sep = \"\\t\", names = columns, encoding = \"latin-1\")\n",
        "    test = pd.read_csv(\"/content/drive/MyDrive/CFAssignmentsDataset/u\" + str(fold) + \".test\", sep = \"\\t\", names = columns, encoding = \"latin-1\")\n",
        "    \n",
        "    return base, test\n",
        "\n",
        "def makeYandRMatrix(data):\n",
        "    totalUsers = len(data['user_id'].unique())\n",
        "    totalMovies = 1682\n",
        "    Y = np.zeros([totalUsers+1, totalMovies+1])\n",
        "    R = np.zeros([totalUsers+1, totalMovies+1])\n",
        "\n",
        "    for i in range(data.shape[0]):\n",
        "        userId = data['user_id'][i]\n",
        "        movieId = data['movie_id'][i]\n",
        "        curRating = data['rating'][i]\n",
        "\n",
        "        Y[userId][movieId] = curRating \n",
        "        R[userId][movieId] = 1\n",
        "\n",
        "    return Y, R\n",
        "\n",
        "def uandVInitialization(f = 10, initType = \"random\", totalUsers = 943, totalMovies = 1682):\n",
        "    if initType == \"zero\":\n",
        "        U = np.zeros([totalUsers+1, f])\n",
        "        V = np.zeros([f, totalMovies+1])\n",
        "\n",
        "    elif initType == \"random\":\n",
        "        U = np.random.uniform(size=(totalUsers+1, f), low=0, high=1)\n",
        "        V = np.random.uniform(size=(f, totalMovies+1), low=0, high=1)\n",
        "\n",
        "    return U, V\n",
        "\n",
        "\n",
        "def train(Y, R, U, V, t, max_iters = 10, method = \"als-inv\"):\n",
        "    nmaes = []\n",
        "    n = U.shape[1]\n",
        "    lmbd = 0.6*np.identity(n)\n",
        "    X = np.random.uniform(size=(944, 1683), low=1, high=5)\n",
        "\n",
        "    for i in range(max_iters):\n",
        "        B = X + Y - np.multiply(R, np.matmul(U, V))\n",
        "        \n",
        "        if (method == \"als-inv\"): # PseudoInverse + regularization\n",
        "            V = np.matmul(np.matmul(np.linalg.inv((np.matmul(U.T, U) + lmbd)), U.T), B)\n",
        "            U = (np.matmul(np.matmul(np.linalg.inv(np.matmul(V, V.T) + lmbd), V), B.T)).T\n",
        "        elif (method == \"als-ds\"): # Direct Solver + regularization\n",
        "            V = linsolve.spsolve(np.matmul(U.T, U) + lmbd, np.matmul(U.T, B))\n",
        "            U = linsolve.spsolve(np.matmul(V, V.T) + lmbd, np.matmul(V, B.T)).T\n",
        "        elif (method == \"als-cg\"): # CG + regularization\n",
        "            for j in range(1683):\n",
        "                V[: , j], c1 = cg(np.matmul(U.T, U) + lmbd, np.matmul(U.T, B[:, j]))\n",
        "            for j in range(944):\n",
        "                u_, c2 = cg(np.matmul(V, V.T) + lmbd, np.matmul(V, B.T[:, j]))\n",
        "                U[j, :] = u_\n",
        "        \n",
        "        X = np.matmul(U, V)\n",
        "        rPred = predictRating(U, V, t)\n",
        "        nmaes.append(nmae(t, rPred))\n",
        "           \n",
        "    return U, V, nmaes\n",
        "\n",
        "def predictRating(U, V, test):\n",
        "    ratingsPred = []\n",
        "    X = np.matmul(U, V)\n",
        "\n",
        "    for i in range(test.shape[0]):\n",
        "        userId = test['user_id'][i]\n",
        "        movieId = test['movie_id'][i]\n",
        "\n",
        "        ratingPredicted = X[userId][movieId]\n",
        "        ratingsPred.append(round(ratingPredicted))\n",
        "\n",
        "    return ratingsPred\n",
        "\n",
        "def nmae(test, ratingsPred):\n",
        "    inds = np.nonzero(ratingsPred)\n",
        "    ratingsTrue = np.array(test['rating'])[inds]\n",
        "    ratingsPred = np.array(ratingsPred)[inds]\n",
        "    error = mae(ratingsTrue, ratingsPred)/4\n",
        "    return error\n"
      ],
      "metadata": {
        "id": "ZzBksu0sf3Od"
      },
      "execution_count": 27,
      "outputs": []
    },
    {
      "cell_type": "code",
      "source": [
        "nmae_folds_cg_reg = []\n",
        "for f in range(1, 6):\n",
        "    nmae_folds_cg_reg.append([0.0]*2)\n",
        "    b, t = makeDataset(f)\n",
        "    Y, R = makeYandRMatrix(b)\n",
        "    for k in range(5, 11, 5):\n",
        "        U, V = uandVInitialization(f = k)\n",
        "        U, V, nmaes = train(Y, R, U, V, t, 100, method=\"als-cg\")\n",
        "        nmae_folds_cg_reg[f-1][(k//5)-1] = min(nmaes)\n",
        "        print(\"Fold:\", f, \"Factors:\", k, \"NMAE:\", min(nmaes))\n",
        "    print()\n",
        "\n",
        "nmae_folds_cg_reg = np.array(nmae_folds_cg_reg).T\n",
        "for k in range(2):\n",
        "    print(\"Average for k:\", (k+1)*5, nmae_folds_cg_reg[k].mean())\n"
      ],
      "metadata": {
        "colab": {
          "base_uri": "https://localhost:8080/"
        },
        "id": "3ABtuZMjeA3N",
        "outputId": "13b8560a-8aed-453c-d192-75a88f3950e2"
      },
      "execution_count": 28,
      "outputs": [
        {
          "output_type": "stream",
          "name": "stdout",
          "text": [
            "Fold: 1 Factors: 5 NMAE: 0.17336853167851066\n",
            "Fold: 1 Factors: 10 NMAE: 0.18215627347858754\n",
            "\n",
            "Fold: 2 Factors: 5 NMAE: 0.17152690863579476\n",
            "Fold: 2 Factors: 10 NMAE: 0.17887542559583416\n",
            "\n",
            "Fold: 3 Factors: 5 NMAE: 0.17108358358358358\n",
            "Fold: 3 Factors: 10 NMAE: 0.1775940564338603\n",
            "\n",
            "Fold: 4 Factors: 5 NMAE: 0.17175696633148232\n",
            "Fold: 4 Factors: 10 NMAE: 0.17879287928792878\n",
            "\n",
            "Fold: 5 Factors: 5 NMAE: 0.17250737905848215\n",
            "Fold: 5 Factors: 10 NMAE: 0.17917542279595716\n",
            "\n",
            "Average for k: 5 0.17204867385757067\n",
            "Average for k: 10 0.17931881151843357\n"
          ]
        }
      ]
    },
    {
      "cell_type": "code",
      "source": [
        "nmae_folds_inv_reg = []\n",
        "for f in range(1, 6):\n",
        "    nmae_folds_inv_reg.append([0.0]*2)\n",
        "    b, t = makeDataset(f)\n",
        "    Y, R = makeYandRMatrix(b)\n",
        "    for k in range(5, 11, 5):\n",
        "        U, V = uandVInitialization(f = k)\n",
        "        U, V, nmaes = train(Y, R, U, V, t, 100, method=\"als-inv\")  \n",
        "        nmae_folds_inv_reg[f-1][(k//5)-1] = min(nmaes)\n",
        "        print(\"Fold:\", f, \"Factors:\", k, \"NMAE:\", min(nmaes))\n",
        "    print()\n",
        "\n",
        "nmae_folds_inv_reg = np.array(nmae_folds_inv_reg).T\n",
        "for k in range(2):\n",
        "    print(\"Average for k:\", (k+1)*5, nmae_folds_inv_reg[k].mean())\n"
      ],
      "metadata": {
        "colab": {
          "base_uri": "https://localhost:8080/"
        },
        "id": "U2UglMczgqvs",
        "outputId": "928ea263-5299-47b6-ba44-cb90d56bccca"
      },
      "execution_count": 29,
      "outputs": [
        {
          "output_type": "stream",
          "name": "stdout",
          "text": [
            "Fold: 1 Factors: 5 NMAE: 0.17616223790221688\n",
            "Fold: 1 Factors: 10 NMAE: 0.18333083120652555\n",
            "\n",
            "Fold: 2 Factors: 5 NMAE: 0.1724176759083175\n",
            "Fold: 2 Factors: 10 NMAE: 0.18048670572329878\n",
            "\n",
            "Fold: 3 Factors: 5 NMAE: 0.1693701812356063\n",
            "Fold: 3 Factors: 10 NMAE: 0.176494871153365\n",
            "\n",
            "Fold: 4 Factors: 5 NMAE: 0.17237368684342172\n",
            "Fold: 4 Factors: 10 NMAE: 0.1779781858207835\n",
            "\n",
            "Fold: 5 Factors: 5 NMAE: 0.1731962373661563\n",
            "Fold: 5 Factors: 10 NMAE: 0.18036518259129564\n",
            "\n",
            "Average for k: 5 0.17270400385114373\n",
            "Average for k: 10 0.1797311552990537\n"
          ]
        }
      ]
    },
    {
      "cell_type": "code",
      "source": [
        "nmae_folds_ds_reg = []\n",
        "for f in range(1, 6):\n",
        "    nmae_folds_ds_reg.append([0.0]*2)\n",
        "    b, t = makeDataset(f)\n",
        "    Y, R = makeYandRMatrix(b)\n",
        "    for k in range(5, 11, 5):\n",
        "        U, V = uandVInitialization(f = k)\n",
        "        U, V, nmaes = train(Y, R, U, V, t, 100, method=\"als-ds\")  \n",
        "        nmae_folds_ds_reg[f-1][(k//5)-1] = min(nmaes)\n",
        "        print(\"Fold:\", f, \"Factors:\", k, \"NMAE:\", min(nmaes))\n",
        "    print()\n",
        "\n",
        "nmae_folds_ds_reg = np.array(nmae_folds_ds_reg).T\n",
        "for k in range(2):\n",
        "    print(\"Average for k:\", (k+1)*5, nmae_folds_ds_reg[k].mean())"
      ],
      "metadata": {
        "colab": {
          "base_uri": "https://localhost:8080/"
        },
        "id": "4_EWNP_fzHhv",
        "outputId": "a76e29ae-67a7-4236-eb7e-32a74b2f8005"
      },
      "execution_count": 33,
      "outputs": [
        {
          "output_type": "stream",
          "name": "stdout",
          "text": [
            "Fold: 1 Factors: 5 NMAE: 0.17420944661262883\n",
            "Fold: 1 Factors: 10 NMAE: 0.18308042868589744\n",
            "\n",
            "Fold: 2 Factors: 5 NMAE: 0.17284677015523284\n",
            "Fold: 2 Factors: 10 NMAE: 0.1806848903574647\n",
            "\n",
            "Fold: 3 Factors: 5 NMAE: 0.17138781842750614\n",
            "Fold: 3 Factors: 10 NMAE: 0.1781602002503129\n",
            "\n",
            "Fold: 4 Factors: 5 NMAE: 0.17091964375062543\n",
            "Fold: 4 Factors: 10 NMAE: 0.17655593356013607\n",
            "\n",
            "Fold: 5 Factors: 5 NMAE: 0.17257943457593194\n",
            "Fold: 5 Factors: 10 NMAE: 0.17862681340670336\n",
            "\n",
            "Average for k: 5 0.17238862270438504\n",
            "Average for k: 10 0.1794216532521029\n"
          ]
        }
      ]
    }
  ],
  "metadata": {
    "colab": {
      "provenance": []
    },
    "gpuClass": "standard",
    "kernelspec": {
      "display_name": "Python 3",
      "name": "python3"
    },
    "language_info": {
      "name": "python"
    }
  },
  "nbformat": 4,
  "nbformat_minor": 0
}