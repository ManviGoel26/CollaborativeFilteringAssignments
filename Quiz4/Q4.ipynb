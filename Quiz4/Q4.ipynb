{
  "cells": [
    {
      "cell_type": "code",
      "execution_count": 22,
      "metadata": {
        "id": "9kkZYC500Uct"
      },
      "outputs": [],
      "source": [
        "import pandas as pd\n",
        "import numpy as np\n",
        "from sklearn.metrics import mean_absolute_error as mae\n",
        "import random\n",
        "random.seed(42)\n",
        "import warnings\n",
        "warnings.filterwarnings(\"ignore\")"
      ]
    },
    {
      "cell_type": "code",
      "source": [
        "columns = ['user_id', 'movie_id', 'rating', 'timestamp']\n",
        "def makeDataset(fold):\n",
        "    base = pd.read_csv(\"/content/drive/MyDrive/CFAssignmentsDataset/u\" + str(fold) + \".base\", sep = \"\\t\", names = columns, encoding = \"latin-1\")\n",
        "    test = pd.read_csv(\"/content/drive/MyDrive/CFAssignmentsDataset/u\" + str(fold) + \".test\", sep = \"\\t\", names = columns, encoding = \"latin-1\")\n",
        "    \n",
        "    return base, test\n",
        "\n",
        "def makeYandRMatrix(data):\n",
        "    totalUsers = len(data['user_id'].unique())\n",
        "    totalMovies = 1682\n",
        "    Y = np.zeros([totalUsers, totalMovies])\n",
        "    R = np.zeros([totalUsers, totalMovies])\n",
        "\n",
        "    for i in range(data.shape[0]):\n",
        "        userId = data['user_id'][i]-1\n",
        "        movieId = data['movie_id'][i]-1\n",
        "        curRating = data['rating'][i]\n",
        "\n",
        "        Y[userId][movieId] = curRating \n",
        "        R[userId][movieId] = 1\n",
        "\n",
        "    return Y, R\n",
        "\n",
        "def train(Y, R, t, max_iters = 10):\n",
        "    nmaes = []\n",
        "    X = np.random.uniform(size=(943, 1682), low=1, high=5)\n",
        "\n",
        "    for i in range(max_iters):\n",
        "        B = X + Y - np.multiply(R, X)\n",
        "        U, S, V = np.linalg.svd(B, full_matrices=False)\n",
        "        S = np.maximum(0, S - 0.05)\n",
        "        X = np.dot(np.dot(U, np.diag(S)), V)\n",
        "        rPred = predictRating(X, t)\n",
        "        nmaes.append(nmae(t, rPred))\n",
        "           \n",
        "    return X, nmaes\n",
        "\n",
        "def predictRating(X, test):\n",
        "    ratingsPred = []\n",
        "\n",
        "    for i in range(test.shape[0]):\n",
        "        userId = test['user_id'][i]-1\n",
        "        movieId = test['movie_id'][i]-1\n",
        "\n",
        "        ratingPredicted = X[userId][movieId]\n",
        "        ratingsPred.append(round(ratingPredicted))\n",
        "\n",
        "    return ratingsPred\n",
        "\n",
        "def nmae(test, ratingsPred):\n",
        "    inds = np.nonzero(ratingsPred)\n",
        "    ratingsTrue = np.array(test['rating'])[inds]\n",
        "    ratingsPred = np.array(ratingsPred)[inds]\n",
        "    error = mae(ratingsTrue, ratingsPred)/4\n",
        "    return error\n"
      ],
      "metadata": {
        "id": "ZzBksu0sf3Od"
      },
      "execution_count": 41,
      "outputs": []
    },
    {
      "cell_type": "code",
      "source": [
        "f = 1\n",
        "b, t = makeDataset(f)\n",
        "Y, R = makeYandRMatrix(b)"
      ],
      "metadata": {
        "id": "BM3ec3NSGEN7"
      },
      "execution_count": 36,
      "outputs": []
    },
    {
      "cell_type": "code",
      "source": [
        "X, nmaes = train(Y, R, t, 50)\n",
        "print(min(nmaes))"
      ],
      "metadata": {
        "colab": {
          "base_uri": "https://localhost:8080/"
        },
        "id": "eVYJCcV6GNiz",
        "outputId": "e56f3f7f-ef61-4387-f087-c71b62798bfb"
      },
      "execution_count": 42,
      "outputs": [
        {
          "output_type": "stream",
          "name": "stdout",
          "text": [
            "0.3415125\n"
          ]
        }
      ]
    }
  ],
  "metadata": {
    "colab": {
      "provenance": []
    },
    "gpuClass": "standard",
    "kernelspec": {
      "display_name": "Python 3",
      "name": "python3"
    },
    "language_info": {
      "name": "python"
    }
  },
  "nbformat": 4,
  "nbformat_minor": 0
}