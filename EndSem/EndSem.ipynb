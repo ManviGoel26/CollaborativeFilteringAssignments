{
  "cells": [
    {
      "cell_type": "code",
      "execution_count": 1,
      "metadata": {
        "id": "9kkZYC500Uct"
      },
      "outputs": [],
      "source": [
        "import pandas as pd\n",
        "import numpy as np\n",
        "from sklearn.metrics import mean_absolute_error as mae\n",
        "import random\n",
        "random.seed(42)\n",
        "import warnings\n",
        "warnings.filterwarnings(\"ignore\")"
      ]
    },
    {
      "cell_type": "code",
      "source": [
        "from google.colab import drive\n",
        "drive.mount('/content/drive')"
      ],
      "metadata": {
        "colab": {
          "base_uri": "https://localhost:8080/"
        },
        "id": "__tIFieElzCk",
        "outputId": "9ffe73e3-cece-4599-e7e5-95024ffb6656"
      },
      "execution_count": 2,
      "outputs": [
        {
          "output_type": "stream",
          "name": "stdout",
          "text": [
            "Drive already mounted at /content/drive; to attempt to forcibly remount, call drive.mount(\"/content/drive\", force_remount=True).\n"
          ]
        }
      ]
    },
    {
      "cell_type": "code",
      "source": [
        "columns = ['user_id', 'movie_id', 'rating', 'timestamp']\n",
        "def makeDataset(fold):\n",
        "    base = pd.read_csv(\"/content/drive/MyDrive/CFAssignmentsDataset/u\" + str(fold) + \".base\", sep = \"\\t\", names = columns, encoding = \"latin-1\")\n",
        "    test = pd.read_csv(\"/content/drive/MyDrive/CFAssignmentsDataset/u\" + str(fold) + \".test\", sep = \"\\t\", names = columns, encoding = \"latin-1\")\n",
        "    \n",
        "    return base, test\n",
        "\n",
        "# Make Y and R matrix\n",
        "def makeYandRMatrix(data):\n",
        "    totalUsers = len(data['user_id'].unique())\n",
        "    totalMovies = 1682\n",
        "    Y = np.zeros([totalUsers, totalMovies])\n",
        "    R = np.zeros([totalUsers, totalMovies])\n",
        "\n",
        "    for i in range(data.shape[0]):\n",
        "        userId = data['user_id'][i]-1\n",
        "        movieId = data['movie_id'][i]-1\n",
        "        curRating = data['rating'][i]\n",
        "\n",
        "        Y[userId][movieId] = curRating \n",
        "        R[userId][movieId] = 1\n",
        "\n",
        "    return Y, R\n",
        "\n",
        "def train(Y, R, t, max_iters = 10, lambda_ = 0.2, p = 1):\n",
        "    nmaes = []\n",
        "    # Initialize X randomely\n",
        "    X = np.random.uniform(size=(943, 1682), low=1, high=5)\n",
        "\n",
        "    for i in range(max_iters):\n",
        "        B = X + Y - np.multiply(R, X)\n",
        "\n",
        "        # Calculting SVD\n",
        "        U, S, V = np.linalg.svd(B, full_matrices=False)\n",
        "        S = np.diag(S)\n",
        "\n",
        "        # Using soft thresholding from the paper\n",
        "        S = np.sign(S)*(np.maximum(np.zeros(S.shape), np.abs(S) - (lambda_/2)*p*(np.abs(S))**(p-1)))\n",
        "        d = np.diag(S)\n",
        "        Sf = np.diag(d)\n",
        "\n",
        "        # Recalculating X\n",
        "        X = np.dot(np.dot(U, Sf), V)\n",
        "        rPred = predictRating(X, t)\n",
        "        nmaes.append(nmae(t, rPred))\n",
        "           \n",
        "    return X, nmaes\n",
        "\n",
        "# Predict for test data\n",
        "def predictRating(X, test):\n",
        "    ratingsPred = []\n",
        "\n",
        "    for i in range(test.shape[0]):\n",
        "        userId = test['user_id'][i]-1\n",
        "        movieId = test['movie_id'][i]-1\n",
        "\n",
        "        ratingPredicted = X[userId][movieId]\n",
        "        ratingsPred.append(round(ratingPredicted))\n",
        "\n",
        "    return ratingsPred\n",
        "\n",
        "# Calculate NMAE\n",
        "def nmae(test, ratingsPred):\n",
        "    inds = np.nonzero(ratingsPred)\n",
        "    ratingsTrue = np.array(test['rating'])[inds]\n",
        "    ratingsPred = np.array(ratingsPred)[inds]\n",
        "    error = mae(np.array(test['rating']), ratingsPred)/4\n",
        "    return error\n",
        "\n"
      ],
      "metadata": {
        "id": "llQxtEbez69E"
      },
      "execution_count": 77,
      "outputs": []
    },
    {
      "cell_type": "code",
      "source": [
        "f = 1 #For fold 1\n",
        "# Make dataset\n",
        "b, t = makeDataset(f)\n",
        "Y, R = makeYandRMatrix(b)"
      ],
      "metadata": {
        "id": "BM3ec3NSGEN7"
      },
      "execution_count": 62,
      "outputs": []
    },
    {
      "cell_type": "code",
      "source": [
        "X, nmaes = train(Y, R, t, max_iters = 30, lambda_ = 0.2, p = 0.1) # p = 0.1\n",
        "print(min(nmaes))"
      ],
      "metadata": {
        "colab": {
          "base_uri": "https://localhost:8080/"
        },
        "id": "eVYJCcV6GNiz",
        "outputId": "23f94ddd-f473-4b4f-cb6b-562813282e63"
      },
      "execution_count": 81,
      "outputs": [
        {
          "output_type": "stream",
          "name": "stdout",
          "text": [
            "0.3529\n"
          ]
        }
      ]
    },
    {
      "cell_type": "code",
      "source": [
        "X, nmaes = train(Y, R, t, 30, p = 0.5) # p = 0.5\n",
        "print(min(nmaes))"
      ],
      "metadata": {
        "colab": {
          "base_uri": "https://localhost:8080/"
        },
        "id": "ITKM0DmB8H9C",
        "outputId": "40783ca5-139a-4922-d50f-e8bcff0a1e92"
      },
      "execution_count": 79,
      "outputs": [
        {
          "output_type": "stream",
          "name": "stdout",
          "text": [
            "0.355025\n"
          ]
        }
      ]
    },
    {
      "cell_type": "code",
      "source": [
        "X, nmaes = train(Y, R, t, 30, p = 1) # p = 1\n",
        "print(min(nmaes))"
      ],
      "metadata": {
        "colab": {
          "base_uri": "https://localhost:8080/"
        },
        "id": "WjfBDJWR8IjL",
        "outputId": "61d2b15d-ad4d-4cbe-dfa2-eaca17637175"
      },
      "execution_count": 80,
      "outputs": [
        {
          "output_type": "stream",
          "name": "stdout",
          "text": [
            "0.3407\n"
          ]
        }
      ]
    }
  ],
  "metadata": {
    "colab": {
      "provenance": []
    },
    "gpuClass": "standard",
    "kernelspec": {
      "display_name": "Python 3",
      "name": "python3"
    },
    "language_info": {
      "name": "python"
    }
  },
  "nbformat": 4,
  "nbformat_minor": 0
}